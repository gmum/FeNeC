{
 "cells": [
  {
   "metadata": {},
   "cell_type": "markdown",
   "source": "## Dataset 1 - Representations from Vision Transformer",
   "id": "db4d420aa53811ac"
  },
  {
   "cell_type": "code",
   "id": "initial_id",
   "metadata": {
    "collapsed": true,
    "ExecuteTime": {
     "end_time": "2024-11-04T01:22:08.356062Z",
     "start_time": "2024-11-04T01:22:02.201224Z"
    }
   },
   "source": [
    "from LogRegClassifier import LogRegClassifier\n",
    "from KNNClassifier import KNNClassifier\n",
    "from KMeans import KMeans\n",
    "import DatasetRun\n",
    "import Metrics"
   ],
   "outputs": [],
   "execution_count": 1
  },
  {
   "metadata": {
    "ExecuteTime": {
     "end_time": "2024-11-04T01:22:08.418065Z",
     "start_time": "2024-11-04T01:22:08.358064Z"
    }
   },
   "cell_type": "code",
   "source": [
    "study_name = \"dataset1\"\n",
    "device = DatasetRun.get_device()"
   ],
   "id": "c900c14e5d4bdd7",
   "outputs": [
    {
     "name": "stdout",
     "output_type": "stream",
     "text": [
      "Device used: cuda\n"
     ]
    }
   ],
   "execution_count": 2
  },
  {
   "metadata": {},
   "cell_type": "markdown",
   "source": "## Sample run",
   "id": "b597c3977d7788e9"
  },
  {
   "metadata": {},
   "cell_type": "markdown",
   "source": "Using KNNClassifier:",
   "id": "9b9e0549333819b7"
  },
  {
   "metadata": {
    "ExecuteTime": {
     "end_time": "2024-11-04T01:23:41.772841Z",
     "start_time": "2024-11-04T01:22:09.076015Z"
    }
   },
   "cell_type": "code",
   "source": [
    "# Define the Classifier metric and the KMeans metric\n",
    "metric = Metrics.MahalanobisMetric(shrinkage=1, gamma_1=1, gamma_2=0.5, normalization=True)\n",
    "metric_kmeans = Metrics.EuclideanMetric()\n",
    "\n",
    "# Initialize KMeans and the KNN Classifier\n",
    "kmeans = KMeans(n_clusters=20, metric=metric_kmeans)\n",
    "clf = KNNClassifier(n_neighbors=5, \n",
    "                    metric=metric, \n",
    "                    is_normalization=False, \n",
    "                    tukey_lambda=1, \n",
    "                    kmeans=kmeans, \n",
    "                    device=device)\n",
    "\n",
    "# Run the classifier on the dataset\n",
    "_ = DatasetRun.train(clf=clf, folder_name='./data/dataset1', n_tasks=10, only_last=False, verbose=True)"
   ],
   "id": "b5481f497fc109d1",
   "outputs": [
    {
     "name": "stdout",
     "output_type": "stream",
     "text": [
      "task 0: (time: 2.4185s)\n",
      "FeCAM accuracy: 97.9000; My accuracy: 98.1000\n",
      "task 1: (time: 2.3609s)\n",
      "FeCAM accuracy: 94.8500; My accuracy: 95.1000\n",
      "task 2: (time: 3.4798s)\n",
      "FeCAM accuracy: 92.3667; My accuracy: 92.4333\n",
      "task 3: (time: 4.7922s)\n",
      "FeCAM accuracy: 90.4000; My accuracy: 90.6250\n",
      "task 4: (time: 6.3181s)\n",
      "FeCAM accuracy: 89.2800; My accuracy: 89.3800\n",
      "task 5: (time: 8.3837s)\n",
      "FeCAM accuracy: 88.3000; My accuracy: 88.4167\n",
      "task 6: (time: 11.2402s)\n",
      "FeCAM accuracy: 87.5143; My accuracy: 87.6714\n",
      "task 7: (time: 14.5080s)\n",
      "FeCAM accuracy: 86.6000; My accuracy: 86.8000\n",
      "task 8: (time: 17.3849s)\n",
      "FeCAM accuracy: 86.5667; My accuracy: 86.8000\n",
      "task 9: (time: 21.0191s)\n",
      "FeCAM accuracy: 85.6700; My accuracy: 85.9500\n"
     ]
    }
   ],
   "execution_count": 3
  },
  {
   "metadata": {},
   "cell_type": "markdown",
   "source": "Using LogRegClassifier:",
   "id": "6f0ba94d6b9cccf9"
  },
  {
   "metadata": {
    "ExecuteTime": {
     "end_time": "2024-11-03T22:03:16.696894Z",
     "start_time": "2024-11-03T22:00:56.699128Z"
    }
   },
   "cell_type": "code",
   "source": [
    "# Define the Classifier metric and the KMeans metric\n",
    "metric = Metrics.MahalanobisMetric(shrinkage=1, gamma_1=1, gamma_2=0.5, normalization=True)\n",
    "metric_kmeans = Metrics.EuclideanMetric()\n",
    "\n",
    "# Initialize KMeans and the Logistic Regression Classifier\n",
    "kmeans = KMeans(n_clusters=10, metric=metric_kmeans)\n",
    "clf = LogRegClassifier(n_store=50, \n",
    "                       selection_method='random', \n",
    "                       metric=metric, \n",
    "                       is_normalization=True,\n",
    "                       tukey_lambda=1, \n",
    "                       kmeans=kmeans, \n",
    "                       device=device)\n",
    "\n",
    "# Run the classifier on the dataset\n",
    "_ = DatasetRun.train(clf=clf, folder_name='./data/dataset1', n_tasks=10, only_last=False, verbose=True)"
   ],
   "id": "633cdf5888f5ac77",
   "outputs": [
    {
     "name": "stdout",
     "output_type": "stream",
     "text": [
      "task 0: (time: 5.3305s)\n",
      "FeCAM accuracy: 97.9000; My accuracy: 98.0000\n",
      "task 1: (time: 4.9148s)\n",
      "FeCAM accuracy: 94.8500; My accuracy: 94.0500\n",
      "task 2: (time: 6.3332s)\n",
      "FeCAM accuracy: 92.3667; My accuracy: 91.3000\n",
      "task 3: (time: 8.6169s)\n",
      "FeCAM accuracy: 90.4000; My accuracy: 88.7500\n",
      "task 4: (time: 13.3152s)\n",
      "FeCAM accuracy: 89.2800; My accuracy: 87.3200\n",
      "task 5: (time: 16.2143s)\n",
      "FeCAM accuracy: 88.3000; My accuracy: 85.7500\n",
      "task 6: (time: 21.0549s)\n",
      "FeCAM accuracy: 87.5143; My accuracy: 84.8429\n",
      "task 7: (time: 19.7326s)\n",
      "FeCAM accuracy: 86.6000; My accuracy: 83.9000\n",
      "task 8: (time: 20.1562s)\n",
      "FeCAM accuracy: 86.5667; My accuracy: 83.7333\n",
      "task 9: (time: 23.7385s)\n",
      "FeCAM accuracy: 85.6700; My accuracy: 82.7100\n"
     ]
    }
   ],
   "execution_count": 5
  },
  {
   "metadata": {},
   "cell_type": "markdown",
   "source": "## Grid search results",
   "id": "dc39a92e9f903e58"
  },
  {
   "metadata": {},
   "cell_type": "markdown",
   "source": "plot accuracy over trials (to check how well did the grid search work)",
   "id": "512e72322ff14270"
  },
  {
   "metadata": {},
   "cell_type": "code",
   "source": "DatasetRun.plot_accuracy_trials(study_name=study_name, ylim=True)",
   "id": "b0491875a653e49d",
   "outputs": [],
   "execution_count": null
  },
  {
   "metadata": {},
   "cell_type": "markdown",
   "source": "plot accuracies against hyperparameters' values ",
   "id": "4a3022ef8be68b0b"
  },
  {
   "metadata": {},
   "cell_type": "code",
   "source": "DatasetRun.plot_hyperparameters(study_name, columns=2, deg=2, ylim=False)",
   "id": "7f69d01f84f1b994",
   "outputs": [],
   "execution_count": null
  },
  {
   "metadata": {},
   "cell_type": "markdown",
   "source": "display the top hyperparameters",
   "id": "9dab029bf79b62b2"
  },
  {
   "metadata": {},
   "cell_type": "code",
   "source": "display(DatasetRun.print_results(study_name, only_important=True))",
   "id": "aa867553189d712c",
   "outputs": [],
   "execution_count": null
  }
 ],
 "metadata": {
  "kernelspec": {
   "display_name": "Python 3",
   "language": "python",
   "name": "python3"
  },
  "language_info": {
   "codemirror_mode": {
    "name": "ipython",
    "version": 2
   },
   "file_extension": ".py",
   "mimetype": "text/x-python",
   "name": "python",
   "nbconvert_exporter": "python",
   "pygments_lexer": "ipython2",
   "version": "2.7.6"
  }
 },
 "nbformat": 4,
 "nbformat_minor": 5
}
