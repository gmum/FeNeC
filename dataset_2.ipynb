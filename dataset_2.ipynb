{
 "cells": [
  {
   "metadata": {},
   "cell_type": "markdown",
   "source": "## Dataset 2 - Representations from ResNet",
   "id": "1fc1f7924254c362"
  },
  {
   "cell_type": "code",
   "id": "initial_id",
   "metadata": {
    "collapsed": true,
    "ExecuteTime": {
     "end_time": "2024-11-03T21:31:22.040161Z",
     "start_time": "2024-11-03T21:31:13.898601Z"
    }
   },
   "source": [
    "from LogRegClassifier import LogRegClassifier\n",
    "from KNNClassifier import KNNClassifier\n",
    "from KMeans import KMeans\n",
    "import DatasetRun\n",
    "import Metrics"
   ],
   "outputs": [],
   "execution_count": 1
  },
  {
   "metadata": {
    "ExecuteTime": {
     "end_time": "2024-11-03T21:31:22.102950Z",
     "start_time": "2024-11-03T21:31:22.042166Z"
    }
   },
   "cell_type": "code",
   "source": [
    "study_name = \"dataset2\"\n",
    "device = DatasetRun.get_device()"
   ],
   "id": "c900c14e5d4bdd7",
   "outputs": [
    {
     "name": "stdout",
     "output_type": "stream",
     "text": [
      "Device used: cuda\n"
     ]
    }
   ],
   "execution_count": 2
  },
  {
   "metadata": {},
   "cell_type": "markdown",
   "source": "### Sample run",
   "id": "b597c3977d7788e9"
  },
  {
   "metadata": {},
   "cell_type": "markdown",
   "source": "Using KNNClassifier:",
   "id": "dd92fc15aa838a6c"
  },
  {
   "metadata": {
    "ExecuteTime": {
     "end_time": "2024-11-03T21:36:01.117598Z",
     "start_time": "2024-11-03T21:31:22.104950Z"
    }
   },
   "cell_type": "code",
   "source": [
    "# Define the Classifier metric and the KMeans metric\n",
    "metric = Metrics.MahalanobisMetric(shrinkage=2, gamma_1=0.85, gamma_2=1.55, normalization=True)\n",
    "metric_kmeans = Metrics.EuclideanMetric()\n",
    "\n",
    "# Initialize KMeans and the Logistic Regression Classifier\n",
    "kmeans = KMeans(n_clusters=50, metric=metric_kmeans, seed=42)\n",
    "clf = KNNClassifier(n_neighbors=4,\n",
    "                    metric=metric,\n",
    "                    is_normalization=True,\n",
    "                    tukey_lambda=0.4,\n",
    "                    kmeans=kmeans,\n",
    "                    device=device)\n",
    "\n",
    "# Run the classifier on the dataset\n",
    "_ = DatasetRun.train(clf=clf, folder_name='./data/dataset2', n_tasks=6, only_last=False, verbose=True)"
   ],
   "id": "f97d1edb46fb050e",
   "outputs": [
    {
     "name": "stdout",
     "output_type": "stream",
     "text": [
      "task 0: (time: 93.2085s)\n",
      "FeCAM accuracy: 83.5600; My accuracy: 84.1400\n",
      "task 1: (time: 41.0043s)\n",
      "FeCAM accuracy: 76.5167; My accuracy: 77.0167\n",
      "task 2: (time: 33.8533s)\n",
      "FeCAM accuracy: 72.1286; My accuracy: 73.0286\n",
      "task 3: (time: 38.9127s)\n",
      "FeCAM accuracy: 67.6625; My accuracy: 68.7375\n",
      "task 4: (time: 32.4916s)\n",
      "FeCAM accuracy: 64.5333; My accuracy: 65.5000\n",
      "task 5: (time: 37.5348s)\n",
      "FeCAM accuracy: 62.2800; My accuracy: 63.7000\n"
     ]
    }
   ],
   "execution_count": 3
  },
  {
   "metadata": {},
   "cell_type": "markdown",
   "source": "Using LogRegClassifier:",
   "id": "954e332b307a692a"
  },
  {
   "metadata": {
    "ExecuteTime": {
     "end_time": "2024-11-03T22:02:26.501076Z",
     "start_time": "2024-11-03T22:00:41.182929Z"
    }
   },
   "cell_type": "code",
   "source": [
    "# Define the Classifier metric and the KMeans metric\n",
    "metric = Metrics.MahalanobisMetric(shrinkage=2, gamma_1=1, gamma_2=1, normalization=True)\n",
    "metric_kmeans = Metrics.EuclideanMetric()\n",
    "\n",
    "# Initialize KMeans and the Logistic Regression Classifier\n",
    "kmeans = KMeans(n_clusters=10, metric=metric_kmeans)\n",
    "clf = LogRegClassifier(n_store=50,\n",
    "                       selection_method='kmeans',\n",
    "                       metric=metric,\n",
    "                       is_normalization=True,\n",
    "                       tukey_lambda=0.5,\n",
    "                       kmeans=kmeans,\n",
    "                       device=device)\n",
    "\n",
    "# Run the classifier on the dataset\n",
    "_ = DatasetRun.train(clf=clf, folder_name='./data/dataset2', n_tasks=6, only_last=False, verbose=True)"
   ],
   "id": "f07ebf733af0dec5",
   "outputs": [
    {
     "name": "stdout",
     "output_type": "stream",
     "text": [
      "task 0: (time: 19.5451s)\n",
      "FeCAM accuracy: 83.5600; My accuracy: 82.4200\n",
      "task 1: (time: 11.2083s)\n",
      "FeCAM accuracy: 76.5167; My accuracy: 64.0333\n",
      "task 2: (time: 15.5724s)\n",
      "FeCAM accuracy: 72.1286; My accuracy: 53.4000\n",
      "task 3: (time: 16.3572s)\n",
      "FeCAM accuracy: 67.6625; My accuracy: 50.0125\n",
      "task 4: (time: 19.2331s)\n",
      "FeCAM accuracy: 64.5333; My accuracy: 45.6333\n",
      "task 5: (time: 23.0506s)\n",
      "FeCAM accuracy: 62.2800; My accuracy: 43.0100\n"
     ]
    }
   ],
   "execution_count": 5
  },
  {
   "metadata": {},
   "cell_type": "markdown",
   "source": "## Grid search results",
   "id": "dc39a92e9f903e58"
  },
  {
   "metadata": {},
   "cell_type": "markdown",
   "source": "plot accuracy over trials (to check how well did the grid search work)",
   "id": "512e72322ff14270"
  },
  {
   "metadata": {},
   "cell_type": "code",
   "source": "DatasetRun.plot_accuracy_trials(study_name=study_name, ylim=False)",
   "id": "b0491875a653e49d",
   "outputs": [],
   "execution_count": null
  },
  {
   "metadata": {},
   "cell_type": "markdown",
   "source": "plot accuracies against hyperparameters' values ",
   "id": "4a3022ef8be68b0b"
  },
  {
   "metadata": {},
   "cell_type": "code",
   "source": "DatasetRun.plot_hyperparameters(study_name, columns=3, deg=5, ylim=True)",
   "id": "7f69d01f84f1b994",
   "outputs": [],
   "execution_count": null
  },
  {
   "metadata": {},
   "cell_type": "markdown",
   "source": "display the top hyperparameters",
   "id": "880a7c66e9d3aa1a"
  },
  {
   "metadata": {},
   "cell_type": "code",
   "source": "display(DatasetRun.print_results(study_name, only_important=True))",
   "id": "aa867553189d712c",
   "outputs": [],
   "execution_count": null
  }
 ],
 "metadata": {
  "kernelspec": {
   "display_name": "Python 3",
   "language": "python",
   "name": "python3"
  },
  "language_info": {
   "codemirror_mode": {
    "name": "ipython",
    "version": 2
   },
   "file_extension": ".py",
   "mimetype": "text/x-python",
   "name": "python",
   "nbconvert_exporter": "python",
   "pygments_lexer": "ipython2",
   "version": "2.7.6"
  }
 },
 "nbformat": 4,
 "nbformat_minor": 5
}
