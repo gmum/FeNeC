{
 "cells": [
  {
   "cell_type": "markdown",
   "id": "1fc1f7924254c362",
   "metadata": {},
   "source": [
    "## Dataset 2 - Representations from ResNet"
   ]
  },
  {
   "cell_type": "code",
   "id": "initial_id",
   "metadata": {
    "collapsed": true,
    "ExecuteTime": {
     "end_time": "2025-01-26T01:09:22.930976Z",
     "start_time": "2025-01-26T01:09:12.719121Z"
    }
   },
   "source": [
    "from KNNClassifier import KNNClassifier\n",
    "from GradKNNClassifier import GradKNNClassifier\n",
    "from KMeans import KMeans\n",
    "import DatasetRun\n",
    "import Metrics"
   ],
   "outputs": [],
   "execution_count": 1
  },
  {
   "cell_type": "code",
   "id": "c900c14e5d4bdd7",
   "metadata": {
    "ExecuteTime": {
     "end_time": "2025-01-26T01:09:23.014827Z",
     "start_time": "2025-01-26T01:09:22.932974Z"
    }
   },
   "source": [
    "study_name = \"dataset2\"\n",
    "device = DatasetRun.get_device()"
   ],
   "outputs": [
    {
     "name": "stdout",
     "output_type": "stream",
     "text": [
      "Device used: cuda\n"
     ]
    }
   ],
   "execution_count": 2
  },
  {
   "cell_type": "markdown",
   "id": "b597c3977d7788e9",
   "metadata": {},
   "source": [
    "### Sample run"
   ]
  },
  {
   "cell_type": "markdown",
   "id": "dd92fc15aa838a6c",
   "metadata": {},
   "source": [
    "Using KNNClassifier:"
   ]
  },
  {
   "cell_type": "code",
   "id": "f97d1edb46fb050e",
   "metadata": {
    "ExecuteTime": {
     "end_time": "2025-01-25T23:49:03.779204Z",
     "start_time": "2025-01-25T23:48:14.741964Z"
    }
   },
   "source": [
    "# Define the Classifier metric and the KMeans metric\n",
    "metric = Metrics.MahalanobisMetric(shrinkage=2, gamma_1=0.85, gamma_2=1.55, normalization=True)\n",
    "metric_kmeans = Metrics.EuclideanMetric()\n",
    "\n",
    "# Initialize KMeans and the Logistic Regression Classifier\n",
    "kmeans = KMeans(n_clusters=50, metric=metric_kmeans, seed=42)\n",
    "clf = KNNClassifier(n_neighbors=4,\n",
    "                    metric=metric,\n",
    "                    data_normalization=True,\n",
    "                    tukey_lambda=0.4,\n",
    "                    kmeans=kmeans,\n",
    "                    device=device)\n",
    "\n",
    "# Run the classifier on the dataset\n",
    "_ = DatasetRun.train(clf=clf, folder_name='../data/dataset2', n_tasks=6, only_last=False, verbose=1)"
   ],
   "outputs": [
    {
     "name": "stdout",
     "output_type": "stream",
     "text": [
      "|   Task |   Class num | Precision   | Recall   |   FScore |   Accuracy | % of all Answers   |\n",
      "|-------:|------------:|:------------|:---------|---------:|-----------:|:-------------------|\n",
      "|      0 |          50 | 84.40%      | 84.14%   |     0.84 |       0.84 | 100.00%            |\n",
      "task 0: (time: 12.9015s)\n",
      "FeCAM accuracy: 83.5600; My accuracy: 84.1400\n",
      "|   Task |   Class num | Precision   | Recall   |   FScore |   Accuracy | % of all Answers   |\n",
      "|-------:|------------:|:------------|:---------|---------:|-----------:|:-------------------|\n",
      "|      0 |          50 | 82.94%      | 80.46%   |     0.82 |        0.8 | 80.95%             |\n",
      "|      1 |          10 | 53.88%      | 59.80%   |     0.56 |        0.6 | 19.05%             |\n",
      "task 1: (time: 4.7688s)\n",
      "FeCAM accuracy: 76.5167; My accuracy: 77.0167\n",
      "|   Task |   Class num | Precision   | Recall   |   FScore |   Accuracy | % of all Answers   |\n",
      "|-------:|------------:|:------------|:---------|---------:|-----------:|:-------------------|\n",
      "|      0 |          50 | 80.46%      | 79.06%   |     0.8  |       0.79 | 70.27%             |\n",
      "|      1 |          10 | 51.52%      | 55.40%   |     0.53 |       0.55 | 15.66%             |\n",
      "|      2 |          10 | 63.40%      | 60.50%   |     0.62 |       0.6  | 14.07%             |\n",
      "task 2: (time: 6.1968s)\n",
      "FeCAM accuracy: 72.1286; My accuracy: 73.0286\n",
      "|   Task |   Class num | Precision   | Recall   |   FScore |   Accuracy | % of all Answers   |\n",
      "|-------:|------------:|:------------|:---------|---------:|-----------:|:-------------------|\n",
      "|      0 |          50 | 78.22%      | 77.48%   |     0.78 |       0.77 | 62.01%             |\n",
      "|      1 |          10 | 48.80%      | 50.20%   |     0.49 |       0.5  | 13.09%             |\n",
      "|      2 |          10 | 62.06%      | 57.60%   |     0.59 |       0.58 | 11.99%             |\n",
      "|      3 |          10 | 54.17%      | 54.70%   |     0.54 |       0.55 | 12.91%             |\n",
      "task 3: (time: 6.8109s)\n",
      "FeCAM accuracy: 67.6625; My accuracy: 68.7375\n",
      "|   Task |   Class num | Precision   | Recall   |   FScore |   Accuracy | % of all Answers   |\n",
      "|-------:|------------:|:------------|:---------|---------:|-----------:|:-------------------|\n",
      "|      0 |          50 | 75.51%      | 76.24%   |     0.76 |       0.76 | 56.32%             |\n",
      "|      1 |          10 | 47.77%      | 49.30%   |     0.48 |       0.49 | 11.66%             |\n",
      "|      2 |          10 | 60.39%      | 55.60%   |     0.57 |       0.56 | 10.60%             |\n",
      "|      3 |          10 | 51.42%      | 53.20%   |     0.52 |       0.53 | 11.77%             |\n",
      "|      4 |          10 | 58.56%      | 50.20%   |     0.54 |       0.5  | 9.66%              |\n",
      "task 4: (time: 7.8011s)\n",
      "FeCAM accuracy: 64.5333; My accuracy: 65.5000\n",
      "|   Task |   Class num | Precision   | Recall   |   FScore |   Accuracy | % of all Answers   |\n",
      "|-------:|------------:|:------------|:---------|---------:|-----------:|:-------------------|\n",
      "|      0 |          50 | 74.17%      | 75.46%   |     0.75 |       0.75 | 51.19%             |\n",
      "|      1 |          10 | 45.87%      | 46.10%   |     0.46 |       0.46 | 10.27%             |\n",
      "|      2 |          10 | 60.23%      | 54.50%   |     0.57 |       0.55 | 9.47%              |\n",
      "|      3 |          10 | 49.06%      | 51.50%   |     0.5  |       0.51 | 10.81%             |\n",
      "|      4 |          10 | 57.35%      | 49.30%   |     0.52 |       0.49 | 8.76%              |\n",
      "|      5 |          10 | 61.83%      | 58.30%   |     0.6  |       0.58 | 9.50%              |\n",
      "task 5: (time: 9.1594s)\n",
      "FeCAM accuracy: 62.2800; My accuracy: 63.7000\n"
     ]
    }
   ],
   "execution_count": 3
  },
  {
   "cell_type": "markdown",
   "id": "93a8475e",
   "metadata": {},
   "source": [
    "Using GradKNNClassifier:"
   ]
  },
  {
   "cell_type": "code",
   "id": "56a755a2",
   "metadata": {
    "ExecuteTime": {
     "end_time": "2025-01-26T01:23:43.753059Z",
     "start_time": "2025-01-26T01:20:38.955750Z"
    }
   },
   "source": [
    "# Define the Classifier metric and the KMeans metric\n",
    "metric = Metrics.MahalanobisMetric(shrinkage=2, gamma_1=0.7, gamma_2=1.2, normalization=True)\n",
    "metric_kmeans = Metrics.EuclideanMetric()\n",
    "\n",
    "# Initialize KMeans and the MLPClassifier\n",
    "kmeans = KMeans(n_clusters=70, metric=metric_kmeans)\n",
    "clf = GradKNNClassifier(metric=metric,\n",
    "                        kmeans=kmeans,\n",
    "                        data_normalization=True,\n",
    "                        device=device,\n",
    "                        tukey_lambda=0.4,\n",
    "                        batch_size=8,\n",
    "                        optimizer=\"SGD\", \n",
    "                        n_points=2, \n",
    "                        mode=0,\n",
    "                        num_epochs=300, \n",
    "                        lr=0.07, \n",
    "                        early_stop_patience=10,\n",
    "                        reg_type=None, \n",
    "                        reg_lambda=None, \n",
    "                        normalization_type=None, \n",
    "                        tanh_x=None, \n",
    "                        centroids_new_old_ratio=None,\n",
    "                        train_only_on_first_task=True, \n",
    "                        dataloader_batch_size=64)\n",
    "\n",
    "# Run the classifier on the dataset\n",
    "_ = DatasetRun.train(clf=clf, folder_name='../data/dataset2', n_tasks=6, only_last=False, \n",
    "                     study_name=study_name, verbose=3)"
   ],
   "outputs": [
    {
     "name": "stderr",
     "output_type": "stream",
     "text": [
      "wandb: WARNING If you're specifying your api key in code, ensure this code is not shared publicly.\n",
      "wandb: WARNING Consider setting the WANDB_API_KEY environment variable, or running `wandb login` from the command line.\n",
      "wandb: Appending key for api.wandb.ai to your netrc file: C:\\Users\\huber\\_netrc\n"
     ]
    },
    {
     "data": {
      "text/plain": [
       "<IPython.core.display.HTML object>"
      ],
      "text/html": [
       "Tracking run with wandb version 0.19.1"
      ]
     },
     "metadata": {},
     "output_type": "display_data"
    },
    {
     "data": {
      "text/plain": [
       "<IPython.core.display.HTML object>"
      ],
      "text/html": [
       "Run data is saved locally in <code>C:\\Users\\huber\\PycharmProjects\\continual-learning-knn\\Notebooks\\wandb\\run-20250126_022039-exqlf7mi</code>"
      ]
     },
     "metadata": {},
     "output_type": "display_data"
    },
    {
     "data": {
      "text/plain": [
       "<IPython.core.display.HTML object>"
      ],
      "text/html": [
       "Syncing run <strong><a href='https://wandb.ai/hubizon/dataset2/runs/exqlf7mi' target=\"_blank\">still-hill-32</a></strong> to <a href='https://wandb.ai/hubizon/dataset2' target=\"_blank\">Weights & Biases</a> (<a href='https://wandb.me/developer-guide' target=\"_blank\">docs</a>)<br>"
      ]
     },
     "metadata": {},
     "output_type": "display_data"
    },
    {
     "data": {
      "text/plain": [
       "<IPython.core.display.HTML object>"
      ],
      "text/html": [
       " View project at <a href='https://wandb.ai/hubizon/dataset2' target=\"_blank\">https://wandb.ai/hubizon/dataset2</a>"
      ]
     },
     "metadata": {},
     "output_type": "display_data"
    },
    {
     "data": {
      "text/plain": [
       "<IPython.core.display.HTML object>"
      ],
      "text/html": [
       " View run at <a href='https://wandb.ai/hubizon/dataset2/runs/exqlf7mi' target=\"_blank\">https://wandb.ai/hubizon/dataset2/runs/exqlf7mi</a>"
      ]
     },
     "metadata": {},
     "output_type": "display_data"
    },
    {
     "name": "stdout",
     "output_type": "stream",
     "text": [
      "Dataloader created\n",
      "Validation Accuracy after Epoch [1/300]: 100.00%, Loss = 0.0183,\n",
      "Validation Accuracy after Epoch [11/300]: 100.00%, Loss = 0.0027,\n",
      "Validation Accuracy after Epoch [21/300]: 100.00%, Loss = 0.0019,\n",
      "Validation Accuracy after Epoch [31/300]: 100.00%, Loss = 0.0017,\n",
      "Validation Accuracy after Epoch [41/300]: 100.00%, Loss = 0.0015,\n",
      "Validation Accuracy after Epoch [51/300]: 100.00%, Loss = 0.0015,\n",
      "Validation Accuracy after Epoch [61/300]: 100.00%, Loss = 0.0014,\n",
      "Validation Accuracy after Epoch [71/300]: 100.00%, Loss = 0.0014,\n",
      "Validation Accuracy after Epoch [81/300]: 100.00%, Loss = 0.0014,\n",
      "Validation Accuracy after Epoch [91/300]: 100.00%, Loss = 0.0014,\n",
      "Validation Accuracy after Epoch [101/300]: 100.00%, Loss = 0.0014,\n",
      "Validation Accuracy after Epoch [111/300]: 100.00%, Loss = 0.0014,\n",
      "Early Stopping at Epoch [117/300]: Accuracy = 100.00%, Loss = 0.0014,\n",
      "|   Task |   Class num | Precision   | Recall   |   FScore |   Accuracy | % of all Answers   |\n",
      "|-------:|------------:|:------------|:---------|---------:|-----------:|:-------------------|\n",
      "|      0 |          50 | 84.12%      | 83.82%   |     0.84 |       0.84 | 100.00%            |\n",
      "task 0: (time: 136.1157s)\n",
      "FeCAM accuracy: 83.5600; My accuracy: 83.8200\n",
      "|   Task |   Class num | Precision   | Recall   |   FScore |   Accuracy | % of all Answers   |\n",
      "|-------:|------------:|:------------|:---------|---------:|-----------:|:-------------------|\n",
      "|      0 |          50 | 82.60%      | 80.28%   |     0.81 |       0.8  | 81.15%             |\n",
      "|      1 |          10 | 53.96%      | 59.10%   |     0.56 |       0.59 | 18.85%             |\n",
      "task 1: (time: 6.0109s)\n",
      "FeCAM accuracy: 76.5167; My accuracy: 76.7500\n",
      "|   Task |   Class num | Precision   | Recall   |   FScore |   Accuracy | % of all Answers   |\n",
      "|-------:|------------:|:------------|:---------|---------:|-----------:|:-------------------|\n",
      "|      0 |          50 | 80.03%      | 78.98%   |     0.79 |       0.79 | 70.64%             |\n",
      "|      1 |          10 | 52.03%      | 55.10%   |     0.53 |       0.55 | 15.53%             |\n",
      "|      2 |          10 | 63.19%      | 58.30%   |     0.6  |       0.58 | 13.83%             |\n",
      "task 2: (time: 7.2259s)\n",
      "FeCAM accuracy: 72.1286; My accuracy: 72.6143\n",
      "|   Task |   Class num | Precision   | Recall   |   FScore |   Accuracy | % of all Answers   |\n",
      "|-------:|------------:|:------------|:---------|---------:|-----------:|:-------------------|\n",
      "|      0 |          50 | 77.98%      | 77.62%   |     0.78 |       0.78 | 62.36%             |\n",
      "|      1 |          10 | 48.96%      | 49.70%   |     0.49 |       0.5  | 13.07%             |\n",
      "|      2 |          10 | 62.18%      | 54.80%   |     0.58 |       0.55 | 11.74%             |\n",
      "|      3 |          10 | 53.95%      | 53.50%   |     0.53 |       0.53 | 12.83%             |\n",
      "task 3: (time: 8.8922s)\n",
      "FeCAM accuracy: 67.6625; My accuracy: 68.2625\n",
      "|   Task |   Class num | Precision   | Recall   |   FScore |   Accuracy | % of all Answers   |\n",
      "|-------:|------------:|:------------|:---------|---------:|-----------:|:-------------------|\n",
      "|      0 |          50 | 75.45%      | 76.66%   |     0.76 |       0.77 | 56.80%             |\n",
      "|      1 |          10 | 47.60%      | 48.80%   |     0.48 |       0.49 | 11.78%             |\n",
      "|      2 |          10 | 60.82%      | 53.20%   |     0.56 |       0.53 | 10.40%             |\n",
      "|      3 |          10 | 51.44%      | 52.40%   |     0.51 |       0.52 | 11.76%             |\n",
      "|      4 |          10 | 62.53%      | 51.60%   |     0.56 |       0.52 | 9.27%              |\n",
      "task 4: (time: 10.1788s)\n",
      "FeCAM accuracy: 64.5333; My accuracy: 65.4778\n",
      "|   Task |   Class num | Precision   | Recall   |   FScore |   Accuracy | % of all Answers   |\n",
      "|-------:|------------:|:------------|:---------|---------:|-----------:|:-------------------|\n",
      "|      0 |          50 | 74.00%      | 75.82%   |     0.75 |       0.76 | 51.69%             |\n",
      "|      1 |          10 | 46.12%      | 45.70%   |     0.45 |       0.46 | 10.34%             |\n",
      "|      2 |          10 | 60.54%      | 52.60%   |     0.56 |       0.53 | 9.30%              |\n",
      "|      3 |          10 | 49.16%      | 50.60%   |     0.49 |       0.51 | 10.76%             |\n",
      "|      4 |          10 | 60.57%      | 50.40%   |     0.55 |       0.5  | 8.45%              |\n",
      "|      5 |          10 | 60.70%      | 56.60%   |     0.58 |       0.57 | 9.46%              |\n",
      "task 5: (time: 12.2142s)\n",
      "FeCAM accuracy: 62.2800; My accuracy: 63.5000\n"
     ]
    },
    {
     "data": {
      "text/plain": [
       "<IPython.core.display.HTML object>"
      ],
      "text/html": []
     },
     "metadata": {},
     "output_type": "display_data"
    },
    {
     "data": {
      "text/plain": [
       "<IPython.core.display.HTML object>"
      ],
      "text/html": [
       "<br>    <style><br>        .wandb-row {<br>            display: flex;<br>            flex-direction: row;<br>            flex-wrap: wrap;<br>            justify-content: flex-start;<br>            width: 100%;<br>        }<br>        .wandb-col {<br>            display: flex;<br>            flex-direction: column;<br>            flex-basis: 100%;<br>            flex: 1;<br>            padding: 10px;<br>        }<br>    </style><br><div class=\"wandb-row\"><div class=\"wandb-col\"><h3>Run history:</h3><br/><table class=\"wandb\"><tr><td>a</td><td>▁▁▁▁▁▁▁▁▁▁▁▁▁▁▁▁▁▁▁▁▁▁▁▁▁▁▁▁▁▁▁▁▁▁▁▁▁▁▁▁</td></tr><tr><td>alpha</td><td>▁▁▁▁▁▁▁▁▁▁▁▁▁▁▁▁▁▁▁▁▁▁▁▁▁▁▁▁▁▁▁▁▁▁▁▁▁▁▁▁</td></tr><tr><td>average_accuracy</td><td>▁</td></tr><tr><td>b</td><td>█▇▆▅▄▃▂▂▂▂▂▂▂▁▁▁▁▁▁▁▁▁▁▁▁▁▁▁▁▁▁▁▁▁▁▁▁▁▁▁</td></tr><tr><td>cross_entropy_loss</td><td>█▃▃▂▁▁▁▁▁▁▁▁▁▁▁▁▁▁▁▁▁▁▁▁▁▁▁▁▁▁▁▁▁▁▁▁▁▁▁▁</td></tr><tr><td>epoch</td><td>▁▁▁▁▂▂▂▂▂▃▃▃▃▃▃▃▄▄▄▄▄▄▄▅▅▅▅▆▆▆▆▇▇▇▇█████</td></tr><tr><td>reg_loss</td><td>▁▁▁▁▁▁▁▁▁▁▁▁▁▁▁▁▁▁▁▁▁▁▁▁▁▁▁▁▁▁▁▁▁▁▁▁▁▁▁▁</td></tr><tr><td>task</td><td>███████████████████████████████████████▁</td></tr><tr><td>task_0_accuracy</td><td>▁</td></tr><tr><td>task_1_accuracy</td><td>▁</td></tr><tr><td>task_2_accuracy</td><td>▁</td></tr><tr><td>task_3_accuracy</td><td>▁</td></tr><tr><td>task_4_accuracy</td><td>▁</td></tr><tr><td>task_5_accuracy</td><td>▁</td></tr><tr><td>total_loss</td><td>▄▃▁▂▁▂▂▂▁▁▁▂▁▁▁▁▁▁▁▁▁▅▂▂▁▁▁▂█▁▁▁▃▂▁▁▁▁▂▁</td></tr><tr><td>valid_accuracy</td><td>▁▁▁▁▁▁▁▁▁▁▁▁▁▁▁▁▁▁▁▁▁▁▁▁▁▁▁▁▁▁▁▁▁▁▁▁▁▁▁▁</td></tr><tr><td>valid_loss</td><td>█▃▂▂▁▁▁▁▁▁▁▁▁▁▁▁▁▁▁▁▁▁▁▁▁▁▁▁▁▁▁▁▁▁▁▁▁▁▁▁</td></tr></table><br/></div><div class=\"wandb-col\"><h3>Run summary:</h3><br/><table class=\"wandb\"><tr><td>a</td><td>1.0292</td></tr><tr><td>alpha</td><td>0.57435</td></tr><tr><td>average_accuracy</td><td>71.73743</td></tr><tr><td>b</td><td>-5.66457</td></tr><tr><td>cross_entropy_loss</td><td>0.01048</td></tr><tr><td>epoch</td><td>116</td></tr><tr><td>reg_loss</td><td>0</td></tr><tr><td>task</td><td>5</td></tr><tr><td>task_0_accuracy</td><td>83.82</td></tr><tr><td>task_1_accuracy</td><td>76.75</td></tr><tr><td>task_2_accuracy</td><td>72.61429</td></tr><tr><td>task_3_accuracy</td><td>68.2625</td></tr><tr><td>task_4_accuracy</td><td>65.47778</td></tr><tr><td>task_5_accuracy</td><td>63.5</td></tr><tr><td>total_loss</td><td>0.00113</td></tr><tr><td>valid_accuracy</td><td>100</td></tr><tr><td>valid_loss</td><td>0.00137</td></tr></table><br/></div></div>"
      ]
     },
     "metadata": {},
     "output_type": "display_data"
    },
    {
     "data": {
      "text/plain": [
       "<IPython.core.display.HTML object>"
      ],
      "text/html": [
       " View run <strong style=\"color:#cdcd00\">still-hill-32</strong> at: <a href='https://wandb.ai/hubizon/dataset2/runs/exqlf7mi' target=\"_blank\">https://wandb.ai/hubizon/dataset2/runs/exqlf7mi</a><br> View project at: <a href='https://wandb.ai/hubizon/dataset2' target=\"_blank\">https://wandb.ai/hubizon/dataset2</a><br>Synced 5 W&B file(s), 0 media file(s), 0 artifact file(s) and 0 other file(s)"
      ]
     },
     "metadata": {},
     "output_type": "display_data"
    },
    {
     "data": {
      "text/plain": [
       "<IPython.core.display.HTML object>"
      ],
      "text/html": [
       "Find logs at: <code>.\\wandb\\run-20250126_022039-exqlf7mi\\logs</code>"
      ]
     },
     "metadata": {},
     "output_type": "display_data"
    }
   ],
   "execution_count": 6
  },
  {
   "cell_type": "code",
   "id": "42f7cf5181ee6399",
   "metadata": {
    "ExecuteTime": {
     "end_time": "2025-01-25T23:49:59.883010Z",
     "start_time": "2025-01-25T23:49:59.882470Z"
    }
   },
   "source": [],
   "outputs": [],
   "execution_count": null
  }
 ],
 "metadata": {
  "kernelspec": {
   "display_name": "base",
   "language": "python",
   "name": "python3"
  },
  "language_info": {
   "codemirror_mode": {
    "name": "ipython",
    "version": 3
   },
   "file_extension": ".py",
   "mimetype": "text/x-python",
   "name": "python",
   "nbconvert_exporter": "python",
   "pygments_lexer": "ipython3",
   "version": "3.11.7"
  }
 },
 "nbformat": 4,
 "nbformat_minor": 5
}
